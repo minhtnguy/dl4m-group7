{
  "cells": [
    {
      "cell_type": "markdown",
      "metadata": {
        "id": "kiN_sPfz94Z2"
      },
      "source": [
        "# Deep Learning for Media final Project\n",
        "\n",
        "### Weather Condition Classification Using Image Recognition\n",
        "\n",
        "---\n",
        "Weather Condition Classification Using Image Recognition\n",
        "\n",
        "Part 1: Organizing our Data, Rita\n",
        "\n",
        "Part 2: Building, training, and evaluating baseline,Rita\n",
        "\n",
        "Part 3: Regularize the model,\n",
        "\n",
        "Part 4: Building and using a pertained model,\n",
        "\n",
        "Part 5: Data Analysis,\n",
        "\n",
        "Part 6: Confusion Matrix\n",
        "\n"
      ]
    },
    {
      "cell_type": "markdown",
      "source": [
        "### Part 1 & 2\n",
        "In this project, we are tackling the classification of weather conditions using deep learning techniques on image data. Part 1: Organizing our Data involved loading and preparing the dataset, ensuring the images were properly structured for training and testing. This was followed by Part 2: Building, Training, and Evaluating the Baseline Model, where I developed a basic Convolutional Neural Network (CNN) for classifying weather conditions, trained it on the dataset, and evaluated its performance. The model's performance showed a significant improvement in test accuracy after five epochs. Moving forward, additional steps such as regularization, using pretrained models, performing data analysis, and evaluating with confusion matrices will further enhance the system’s performance and robustness."
      ],
      "metadata": {
        "id": "tXbHhKmjOvkv"
      }
    },
    {
      "cell_type": "code",
      "source": [
        "from google.colab import drive\n",
        "drive.mount('/content/drive')"
      ],
      "metadata": {
        "colab": {
          "base_uri": "https://localhost:8080/"
        },
        "id": "B2nI6NYiMCnr",
        "outputId": "01372a01-3517-41d1-df2f-9b0c9389e134"
      },
      "execution_count": 1,
      "outputs": [
        {
          "output_type": "stream",
          "name": "stdout",
          "text": [
            "Drive already mounted at /content/drive; to attempt to forcibly remount, call drive.mount(\"/content/drive\", force_remount=True).\n"
          ]
        }
      ]
    },
    {
      "cell_type": "code",
      "source": [
        "# Change the path to point to the folder in your Google Drive\n",
        "data_dir = '/content/drive/MyDrive/dl4m/dl4m-group7-main/data'\n"
      ],
      "metadata": {
        "id": "5dqf0BilMK3U"
      },
      "execution_count": 2,
      "outputs": []
    },
    {
      "cell_type": "code",
      "source": [
        "# main.py or a Colab cell\n",
        "\n",
        "import torch\n",
        "from project import load_data  # Import your data loading function\n",
        "from utils import BaselineCNN, train_model, evaluate_model  # Import model and helper functions\n",
        "\n",
        "# Mount Google Drive to access data (only needed in Colab)\n",
        "from google.colab import drive\n",
        "drive.mount('/content/drive')\n",
        "\n",
        "# Set device (GPU or CPU)\n",
        "device = torch.device(\"cuda\" if torch.cuda.is_available() else \"cpu\")\n",
        "\n",
        "# Load data (make sure to update the data path accordingly to your Google Drive structure)\n",
        "data_dir = '/content/drive/MyDrive/dl4m/dl4m-group7-main/data'  # Update this with your folder path in Google Drive\n",
        "train_loader, test_loader, classes = load_data(data_dir=data_dir)\n",
        "num_classes = len(classes)\n",
        "\n",
        "# Initialize model, loss function, and optimizer\n",
        "model = BaselineCNN(num_classes).to(device)\n",
        "criterion = torch.nn.CrossEntropyLoss()\n",
        "optimizer = torch.optim.Adam(model.parameters(), lr=0.001)\n",
        "\n",
        "# Train and evaluate the model\n",
        "num_epochs = 5  # You can adjust the number of epochs here\n",
        "for epoch in range(num_epochs):\n",
        "    print(f\"Epoch {epoch+1}/{num_epochs}\")\n",
        "\n",
        "    # Train the model\n",
        "    train_loss = train_model(model, train_loader, criterion, optimizer, device)\n",
        "\n",
        "    # Evaluate the model\n",
        "    test_loss, accuracy = evaluate_model(model, test_loader, criterion, device)\n",
        "\n",
        "    print(f\"Train Loss: {train_loss:.4f} | Test Loss: {test_loss:.4f} | Accuracy: {accuracy:.2f}%\")\n"
      ],
      "metadata": {
        "colab": {
          "base_uri": "https://localhost:8080/"
        },
        "id": "rvLpkuvXJCSc",
        "outputId": "00d4e26a-c4e4-46ae-dd2e-77aac1564c6d"
      },
      "execution_count": 3,
      "outputs": [
        {
          "output_type": "stream",
          "name": "stdout",
          "text": [
            "Drive already mounted at /content/drive; to attempt to forcibly remount, call drive.mount(\"/content/drive\", force_remount=True).\n",
            "Epoch 1/5\n"
          ]
        },
        {
          "output_type": "stream",
          "name": "stderr",
          "text": [
            "Training: 100%|██████████| 31/31 [02:31<00:00,  4.88s/it]\n",
            "Evaluating: 100%|██████████| 8/8 [00:36<00:00,  4.59s/it]\n"
          ]
        },
        {
          "output_type": "stream",
          "name": "stdout",
          "text": [
            "Train Loss: 0.8289 | Test Loss: 0.6303 | Accuracy: 81.89%\n",
            "Epoch 2/5\n"
          ]
        },
        {
          "output_type": "stream",
          "name": "stderr",
          "text": [
            "Training: 100%|██████████| 31/31 [00:09<00:00,  3.37it/s]\n",
            "Evaluating: 100%|██████████| 8/8 [00:02<00:00,  3.57it/s]\n"
          ]
        },
        {
          "output_type": "stream",
          "name": "stdout",
          "text": [
            "Train Loss: 0.2734 | Test Loss: 0.3187 | Accuracy: 90.12%\n",
            "Epoch 3/5\n"
          ]
        },
        {
          "output_type": "stream",
          "name": "stderr",
          "text": [
            "Training: 100%|██████████| 31/31 [00:09<00:00,  3.33it/s]\n",
            "Evaluating: 100%|██████████| 8/8 [00:02<00:00,  3.61it/s]\n"
          ]
        },
        {
          "output_type": "stream",
          "name": "stdout",
          "text": [
            "Train Loss: 0.1857 | Test Loss: 0.2856 | Accuracy: 91.77%\n",
            "Epoch 4/5\n"
          ]
        },
        {
          "output_type": "stream",
          "name": "stderr",
          "text": [
            "Training: 100%|██████████| 31/31 [00:09<00:00,  3.32it/s]\n",
            "Evaluating: 100%|██████████| 8/8 [00:02<00:00,  3.61it/s]\n"
          ]
        },
        {
          "output_type": "stream",
          "name": "stdout",
          "text": [
            "Train Loss: 0.1346 | Test Loss: 0.2173 | Accuracy: 93.42%\n",
            "Epoch 5/5\n"
          ]
        },
        {
          "output_type": "stream",
          "name": "stderr",
          "text": [
            "Training: 100%|██████████| 31/31 [00:08<00:00,  3.54it/s]\n",
            "Evaluating: 100%|██████████| 8/8 [00:02<00:00,  3.02it/s]"
          ]
        },
        {
          "output_type": "stream",
          "name": "stdout",
          "text": [
            "Train Loss: 0.0926 | Test Loss: 0.2825 | Accuracy: 91.36%\n"
          ]
        },
        {
          "output_type": "stream",
          "name": "stderr",
          "text": [
            "\n"
          ]
        }
      ]
    }
  ],
  "metadata": {
    "colab": {
      "provenance": [],
      "gpuType": "T4"
    },
    "kernelspec": {
      "display_name": "Python 3",
      "name": "python3"
    },
    "language_info": {
      "codemirror_mode": {
        "name": "ipython",
        "version": 3
      },
      "file_extension": ".py",
      "mimetype": "text/x-python",
      "name": "python",
      "nbconvert_exporter": "python",
      "pygments_lexer": "ipython3",
      "version": "3.10.12"
    },
    "accelerator": "GPU"
  },
  "nbformat": 4,
  "nbformat_minor": 0
}